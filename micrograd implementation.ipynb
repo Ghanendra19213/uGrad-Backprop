{
 "cells": [
  {
   "cell_type": "code",
   "execution_count": 213,
   "id": "feead3c7",
   "metadata": {},
   "outputs": [],
   "source": [
    "import math\n",
    "import numpy as np\n",
    "from pylab import *\n",
    "import matplotlib.pyplot as plt\n",
    "%matplotlib inline"
   ]
  },
  {
   "cell_type": "code",
   "execution_count": 3,
   "id": "7daad0be",
   "metadata": {},
   "outputs": [],
   "source": [
    "#Function\n",
    "def f(x):\n",
    "    return 3*x**2 - 4*x + 5"
   ]
  },
  {
   "cell_type": "code",
   "execution_count": 4,
   "id": "d4998219",
   "metadata": {},
   "outputs": [],
   "source": [
    "# Derivative 6x - 4 = (6*3-4) = 14"
   ]
  },
  {
   "cell_type": "code",
   "execution_count": 5,
   "id": "cdec58ce",
   "metadata": {},
   "outputs": [
    {
     "data": {
      "text/plain": [
       "20.0"
      ]
     },
     "execution_count": 5,
     "metadata": {},
     "output_type": "execute_result"
    }
   ],
   "source": [
    "f(3.0)"
   ]
  },
  {
   "cell_type": "code",
   "execution_count": 6,
   "id": "baddc81c",
   "metadata": {},
   "outputs": [
    {
     "data": {
      "image/png": "[encoded data removed]",
      "text/plain": [
       "<Figure size 432x288 with 1 Axes>"
      ]
     },
     "metadata": {
      "needs_background": "light"
     },
     "output_type": "display_data"
    }
   ],
   "source": [
    "xs = np.arange(-5,5,0.25)\n",
    "ys = f(xs)\n",
    "plot(xs,ys)\n",
    "show()"
   ]
  },
  {
   "cell_type": "code",
   "execution_count": 26,
   "id": "90239ead",
   "metadata": {},
   "outputs": [
    {
     "data": {
      "text/plain": [
       "14.000000305713911"
      ]
     },
     "execution_count": 26,
     "metadata": {},
     "output_type": "execute_result"
    }
   ],
   "source": [
    "# Rise over run\n",
    "h = 0.0000001 / normalize (run)\n",
    "x = 3.0\n",
    "(f(x+h) - f(x))/h # Slope"
   ]
  },
  {
   "cell_type": "code",
   "execution_count": 28,
   "id": "e826d014",
   "metadata": {},
   "outputs": [
    {
     "data": {
      "text/plain": [
       "-22.000001820288162"
      ]
     },
     "execution_count": 28,
     "metadata": {},
     "output_type": "execute_result"
    }
   ],
   "source": [
    "h = 0.000000001\n",
    "x = -3.0\n",
    "(f(x+h) - f(x))/h # Slope"
   ]
  },
  {
   "cell_type": "code",
   "execution_count": 34,
   "id": "3bbe827d",
   "metadata": {},
   "outputs": [
    {
     "data": {
      "text/plain": [
       "0.0"
      ]
     },
     "execution_count": 34,
     "metadata": {},
     "output_type": "execute_result"
    }
   ],
   "source": [
    "h = 0.00000001\n",
    "x = 2/3 # Slope is zero\n",
    "(f(x+h) - f(x))/h # Slope"
   ]
  },
  {
   "cell_type": "code",
   "execution_count": 48,
   "id": "1acd9cd2",
   "metadata": {},
   "outputs": [
    {
     "name": "stdout",
     "output_type": "stream",
     "text": [
      "4.0\n"
     ]
    }
   ],
   "source": [
    "# Little more complex three scalar inputs in expression graphs\n",
    "a = 2.0\n",
    "b = -3.0\n",
    "c = 10.0\n",
    "d = a*b+c\n",
    "print(d)"
   ]
  },
  {
   "cell_type": "code",
   "execution_count": 50,
   "id": "c84d95fd",
   "metadata": {},
   "outputs": [
    {
     "name": "stdout",
     "output_type": "stream",
     "text": [
      "d1 4.0\n",
      "d2, 4.0001\n",
      "Slope 0.9999999999976694\n"
     ]
    }
   ],
   "source": [
    "h = 0.0001\n",
    "a = 2.0\n",
    "b = -3.0\n",
    "c = 10.0\n",
    "\n",
    "d1 = a*b + c\n",
    "c += h\n",
    "d2 = a*b + c\n",
    "print('d1', d1)\n",
    "print('d2,', d2)\n",
    "print('Slope', (d2-d1)/h)"
   ]
  },
  {
   "cell_type": "markdown",
   "id": "4b0c91fa",
   "metadata": {},
   "source": [
    "## NN are mathematical expressions to represent them we need objects\n",
    "### Value objects as data structures\n"
   ]
  },
  {
   "cell_type": "markdown",
   "id": "9e04d96d",
   "metadata": {},
   "source": [
    "# Value Object"
   ]
  },
  {
   "cell_type": "code",
   "execution_count": 253,
   "id": "7899d7b4",
   "metadata": {},
   "outputs": [],
   "source": [
    "class Value:\n",
    "    \n",
    "    def __init__(self, data, _children=(), _op='', label=''):\n",
    "        self.data = data\n",
    "        self._prev = set(_children) # empty tuple by default, prev (set)\n",
    "        self._op = _op # operation a simple string\n",
    "        self.label = label\n",
    "        self.grad = 0.0\n",
    "        self._backward = lambda: None # Empty Function\n",
    "    \n",
    "    # Print out expressions\n",
    "    def __repr__(self):\n",
    "        return f\"Value(data={self.data})\"\n",
    "    \n",
    "    def __add__(self, other):\n",
    "        other = other  if isinstance(other, Value) else Value(other)\n",
    "        out = Value(self.data + other.data, (self, other), '+')\n",
    "\n",
    "        def _backward():\n",
    "            self.grad += 1.0 * out.grad\n",
    "            other.grad += 1.0 * out.grad\n",
    "            \n",
    "        out._backward = _backward\n",
    "        return out\n",
    "    \n",
    "    def __mul__(self, other):\n",
    "        other = other if isinstance(other, Value) else Value(other)\n",
    "        out = Value(self.data * other.data, (self, other), '*')\n",
    "        \n",
    "        def _backward():\n",
    "            self.grad  += other.data*out.grad\n",
    "            other.grad += self.data*out.grad\n",
    "        out._backward = _backward\n",
    "        \n",
    "        return out\n",
    "    \n",
    "    def __rmul__(self,other):\n",
    "        return self*other\n",
    "    \n",
    "    def tanh(self):\n",
    "        x = self.data\n",
    "        t = (math.exp(2*x) - 1)/(math.exp(2*x) + 1)\n",
    "        out = Value(t, (self, ), 'tanh')\n",
    "        \n",
    "        def _backward():\n",
    "            self.grad += (1-t**2)* out.grad\n",
    "        out._backward = _backward\n",
    "        \n",
    "        return out\n",
    "    \n",
    "    def exp(self):\n",
    "        x = self.data\n",
    "        out = Value(math.exp(x), (self, ), 'exp')\n",
    "        \n",
    "        def _backward():\n",
    "            self.grad += out.data*out.grad\n",
    "            out._backward = _backward\n",
    "    \n",
    "    def backward(self):\n",
    "        \n",
    "        topo = []\n",
    "        visited = set()\n",
    "        def build_topo(v):\n",
    "            if v not in visited:\n",
    "                visited.add(v)\n",
    "                for child in v._prev:\n",
    "                    build_topo(child)\n",
    "                topo.append(v)\n",
    "        build_topo(self)\n",
    "        self.grad = 1.0\n",
    "        for node in reversed(topo):\n",
    "            node._backward()\n",
    "\n",
    "# a = Value(2.0, label='a')\n",
    "# b = Value(-3.0, label='b')\n",
    "# c = Value(10.0, label='c')\n",
    "# e = a*b; e.label = 'e'\n",
    "# d = e + c; d.label = 'd'\n",
    "# f = Value(-2.0, label='f')\n",
    "# L = d*f; L.label='L'\n",
    "# L"
   ]
  },
  {
   "cell_type": "code",
   "execution_count": 254,
   "id": "e292ace2",
   "metadata": {},
   "outputs": [
    {
     "data": {
      "text/plain": [
       "Value(data=8.0)"
      ]
     },
     "execution_count": 254,
     "metadata": {},
     "output_type": "execute_result"
    }
   ],
   "source": [
    "a = Value(2.0)\n",
    "a*4"
   ]
  },
  {
   "cell_type": "code",
   "execution_count": 62,
   "id": "d5a81e2e",
   "metadata": {},
   "outputs": [
    {
     "data": {
      "text/plain": [
       "{Value(data=-6.0), Value(data=10.0)}"
      ]
     },
     "execution_count": 62,
     "metadata": {},
     "output_type": "execute_result"
    }
   ],
   "source": [
    "d._prev"
   ]
  },
  {
   "cell_type": "code",
   "execution_count": 65,
   "id": "44347db1",
   "metadata": {},
   "outputs": [
    {
     "data": {
      "text/plain": [
       "'+'"
      ]
     },
     "execution_count": 65,
     "metadata": {},
     "output_type": "execute_result"
    }
   ],
   "source": [
    "d._op"
   ]
  },
  {
   "cell_type": "code",
   "execution_count": 8,
   "id": "ad3e0efc",
   "metadata": {},
   "outputs": [
    {
     "data": {
      "text/plain": [
       "Value(data=-1.0)"
      ]
     },
     "execution_count": 8,
     "metadata": {},
     "output_type": "execute_result"
    }
   ],
   "source": [
    "a+b"
   ]
  },
  {
   "cell_type": "code",
   "execution_count": 9,
   "id": "189b6831",
   "metadata": {},
   "outputs": [
    {
     "data": {
      "text/plain": [
       "Value(data=-6.0)"
      ]
     },
     "execution_count": 9,
     "metadata": {},
     "output_type": "execute_result"
    }
   ],
   "source": [
    "a*b"
   ]
  },
  {
   "cell_type": "code",
   "execution_count": 12,
   "id": "1fb0f657",
   "metadata": {},
   "outputs": [
    {
     "data": {
      "text/plain": [
       "Value(data=4.0)"
      ]
     },
     "execution_count": 12,
     "metadata": {},
     "output_type": "execute_result"
    }
   ],
   "source": [
    "d = a*b+c\n",
    "d"
   ]
  },
  {
   "cell_type": "code",
   "execution_count": 11,
   "id": "53261646",
   "metadata": {},
   "outputs": [
    {
     "data": {
      "text/plain": [
       "Value(data=4.0)"
      ]
     },
     "execution_count": 11,
     "metadata": {},
     "output_type": "execute_result"
    }
   ],
   "source": [
    "(a.__mul__(b)).__add__(c)"
   ]
  },
  {
   "cell_type": "code",
   "execution_count": 13,
   "id": "b5c809ce",
   "metadata": {},
   "outputs": [
    {
     "data": {
      "text/plain": [
       "{Value(data=-6.0), Value(data=10.0)}"
      ]
     },
     "execution_count": 13,
     "metadata": {},
     "output_type": "execute_result"
    }
   ],
   "source": [
    "d._prev"
   ]
  },
  {
   "cell_type": "markdown",
   "id": "f6f6a4ce",
   "metadata": {},
   "source": [
    "## Visualize expression"
   ]
  },
  {
   "cell_type": "code",
   "execution_count": 38,
   "id": "e33c37da",
   "metadata": {},
   "outputs": [],
   "source": [
    "from graphviz import Digraph\n",
    "\n",
    "def trace(root):\n",
    "    nodes, edges = set(), set()\n",
    "    def build(v):\n",
    "        if v not in nodes:\n",
    "            nodes.add(v)\n",
    "            for child in v._prev:\n",
    "                edges.add((child,v))\n",
    "                build(child)\n",
    "    build(root)\n",
    "    return nodes,edges\n",
    "\n",
    "def draw_dot(root):\n",
    "    dot = Digraph(format='svg', graph_attr={'rankdir':'LR'})\n",
    "    \n",
    "    nodes, edges = trace(root)\n",
    "    for n in nodes:\n",
    "        uid = str(id(n))\n",
    "        dot.node(name=uid, label=\"{%s | data=%.4f | grad=%.4f}\"%(n.label, n.data, n.grad), shape='record')\n",
    "        if n._op:\n",
    "            dot.node(name=uid+n._op, label=n._op)\n",
    "            dot.edge(uid + n._op, uid)\n",
    "            \n",
    "    for n1, n2 in edges:\n",
    "        dot.edge(str(id(n1)), str(id(n2)) + n2._op)\n",
    "    \n",
    "    return dot\n"
   ]
  },
  {
   "cell_type": "code",
   "execution_count": 144,
   "id": "7c7e29cd",
   "metadata": {},
   "outputs": [
    {
     "data": {
      "image/svg+xml": [
       "<?xml version=\"1.0\" encoding=\"UTF-8\" standalone=\"no\"?>\n",
       "<!DOCTYPE svg PUBLIC \"-//W3C//DTD SVG 1.1//EN\"\n",
       " \"http://www.w3.org/Graphics/SVG/1.1/DTD/svg11.dtd\">\n",
       "<!-- Generated by graphviz version 2.43.0 (0)\n",
       " -->\n",
       "<!-- Title: %3 Pages: 1 -->\n",
       "<svg width=\"1181pt\" height=\"156pt\"\n",
       " viewBox=\"0.00 0.00 1181.00 156.00\" xmlns=\"http://www.w3.org/2000/svg\" xmlns:xlink=\"http://www.w3.org/1999/xlink\">\n",
       "<g id=\"graph0\" class=\"graph\" transform=\"scale(1 1) rotate(0) translate(4 152)\">\n",
       "<title>%3</title>\n",
       "<polygon fill=\"white\" stroke=\"transparent\" points=\"-4,4 -4,-152 1177,-152 1177,4 -4,4\"/>\n",
       "<!-- 140710718458368 -->\n",
       "<g id=\"node1\" class=\"node\">\n",
       "<title>140710718458368</title>\n",
       "<polygon fill=\"none\" stroke=\"black\" points=\"0,-111.5 0,-147.5 198,-147.5 198,-111.5 0,-111.5\"/>\n",
       "<text text-anchor=\"middle\" x=\"11.5\" y=\"-125.8\" font-family=\"Times,serif\" font-size=\"14.00\">b</text>\n",
       "<polyline fill=\"none\" stroke=\"black\" points=\"23,-111.5 23,-147.5 \"/>\n",
       "<text text-anchor=\"middle\" x=\"67.5\" y=\"-125.8\" font-family=\"Times,serif\" font-size=\"14.00\">data=&#45;3.0000</text>\n",
       "<polyline fill=\"none\" stroke=\"black\" points=\"112,-111.5 112,-147.5 \"/>\n",
       "<text text-anchor=\"middle\" x=\"155\" y=\"-125.8\" font-family=\"Times,serif\" font-size=\"14.00\">grad=0.0000</text>\n",
       "</g>\n",
       "<!-- 140710718457456* -->\n",
       "<g id=\"node4\" class=\"node\">\n",
       "<title>140710718457456*</title>\n",
       "<ellipse fill=\"none\" stroke=\"black\" cx=\"261\" cy=\"-101.5\" rx=\"27\" ry=\"18\"/>\n",
       "<text text-anchor=\"middle\" x=\"261\" y=\"-97.8\" font-family=\"Times,serif\" font-size=\"14.00\">*</text>\n",
       "</g>\n",
       "<!-- 140710718458368&#45;&gt;140710718457456* -->\n",
       "<g id=\"edge4\" class=\"edge\">\n",
       "<title>140710718458368&#45;&gt;140710718457456*</title>\n",
       "<path fill=\"none\" stroke=\"black\" d=\"M198.14,-112.33C207.5,-110.69 216.5,-109.11 224.61,-107.69\"/>\n",
       "<polygon fill=\"black\" stroke=\"black\" points=\"225.46,-111.1 234.7,-105.93 224.25,-104.2 225.46,-111.1\"/>\n",
       "</g>\n",
       "<!-- 140710718456400 -->\n",
       "<g id=\"node2\" class=\"node\">\n",
       "<title>140710718456400</title>\n",
       "<polygon fill=\"none\" stroke=\"black\" points=\"651,-0.5 651,-36.5 847,-36.5 847,-0.5 651,-0.5\"/>\n",
       "<text text-anchor=\"middle\" x=\"661.5\" y=\"-14.8\" font-family=\"Times,serif\" font-size=\"14.00\">f</text>\n",
       "<polyline fill=\"none\" stroke=\"black\" points=\"672,-0.5 672,-36.5 \"/>\n",
       "<text text-anchor=\"middle\" x=\"716.5\" y=\"-14.8\" font-family=\"Times,serif\" font-size=\"14.00\">data=&#45;2.0000</text>\n",
       "<polyline fill=\"none\" stroke=\"black\" points=\"761,-0.5 761,-36.5 \"/>\n",
       "<text text-anchor=\"middle\" x=\"804\" y=\"-14.8\" font-family=\"Times,serif\" font-size=\"14.00\">grad=0.0000</text>\n",
       "</g>\n",
       "<!-- 140710718458176* -->\n",
       "<g id=\"node6\" class=\"node\">\n",
       "<title>140710718458176*</title>\n",
       "<ellipse fill=\"none\" stroke=\"black\" cx=\"910\" cy=\"-45.5\" rx=\"27\" ry=\"18\"/>\n",
       "<text text-anchor=\"middle\" x=\"910\" y=\"-41.8\" font-family=\"Times,serif\" font-size=\"14.00\">*</text>\n",
       "</g>\n",
       "<!-- 140710718456400&#45;&gt;140710718458176* -->\n",
       "<g id=\"edge5\" class=\"edge\">\n",
       "<title>140710718456400&#45;&gt;140710718458176*</title>\n",
       "<path fill=\"none\" stroke=\"black\" d=\"M847.07,-34.98C856.42,-36.57 865.43,-38.1 873.55,-39.48\"/>\n",
       "<polygon fill=\"black\" stroke=\"black\" points=\"873.21,-42.97 883.65,-41.2 874.38,-36.07 873.21,-42.97\"/>\n",
       "</g>\n",
       "<!-- 140710718457456 -->\n",
       "<g id=\"node3\" class=\"node\">\n",
       "<title>140710718457456</title>\n",
       "<polygon fill=\"none\" stroke=\"black\" points=\"325.5,-83.5 325.5,-119.5 523.5,-119.5 523.5,-83.5 325.5,-83.5\"/>\n",
       "<text text-anchor=\"middle\" x=\"337\" y=\"-97.8\" font-family=\"Times,serif\" font-size=\"14.00\">e</text>\n",
       "<polyline fill=\"none\" stroke=\"black\" points=\"348.5,-83.5 348.5,-119.5 \"/>\n",
       "<text text-anchor=\"middle\" x=\"393\" y=\"-97.8\" font-family=\"Times,serif\" font-size=\"14.00\">data=&#45;6.0000</text>\n",
       "<polyline fill=\"none\" stroke=\"black\" points=\"437.5,-83.5 437.5,-119.5 \"/>\n",
       "<text text-anchor=\"middle\" x=\"480.5\" y=\"-97.8\" font-family=\"Times,serif\" font-size=\"14.00\">grad=0.0000</text>\n",
       "</g>\n",
       "<!-- 140710718456256+ -->\n",
       "<g id=\"node10\" class=\"node\">\n",
       "<title>140710718456256+</title>\n",
       "<ellipse fill=\"none\" stroke=\"black\" cx=\"588\" cy=\"-73.5\" rx=\"27\" ry=\"18\"/>\n",
       "<text text-anchor=\"middle\" x=\"588\" y=\"-69.8\" font-family=\"Times,serif\" font-size=\"14.00\">+</text>\n",
       "</g>\n",
       "<!-- 140710718457456&#45;&gt;140710718456256+ -->\n",
       "<g id=\"edge7\" class=\"edge\">\n",
       "<title>140710718457456&#45;&gt;140710718456256+</title>\n",
       "<path fill=\"none\" stroke=\"black\" d=\"M523.63,-84.49C533.59,-82.76 543.17,-81.1 551.74,-79.61\"/>\n",
       "<polygon fill=\"black\" stroke=\"black\" points=\"552.4,-83.05 561.65,-77.89 551.2,-76.15 552.4,-83.05\"/>\n",
       "</g>\n",
       "<!-- 140710718457456*&#45;&gt;140710718457456 -->\n",
       "<g id=\"edge1\" class=\"edge\">\n",
       "<title>140710718457456*&#45;&gt;140710718457456</title>\n",
       "<path fill=\"none\" stroke=\"black\" d=\"M288.31,-101.5C296.22,-101.5 305.43,-101.5 315.26,-101.5\"/>\n",
       "<polygon fill=\"black\" stroke=\"black\" points=\"315.28,-105 325.28,-101.5 315.28,-98 315.28,-105\"/>\n",
       "</g>\n",
       "<!-- 140710718458176 -->\n",
       "<g id=\"node5\" class=\"node\">\n",
       "<title>140710718458176</title>\n",
       "<polygon fill=\"none\" stroke=\"black\" points=\"973,-27.5 973,-63.5 1173,-63.5 1173,-27.5 973,-27.5\"/>\n",
       "<text text-anchor=\"middle\" x=\"985.5\" y=\"-41.8\" font-family=\"Times,serif\" font-size=\"14.00\">L</text>\n",
       "<polyline fill=\"none\" stroke=\"black\" points=\"998,-27.5 998,-63.5 \"/>\n",
       "<text text-anchor=\"middle\" x=\"1042.5\" y=\"-41.8\" font-family=\"Times,serif\" font-size=\"14.00\">data=&#45;8.0000</text>\n",
       "<polyline fill=\"none\" stroke=\"black\" points=\"1087,-27.5 1087,-63.5 \"/>\n",
       "<text text-anchor=\"middle\" x=\"1130\" y=\"-41.8\" font-family=\"Times,serif\" font-size=\"14.00\">grad=0.0000</text>\n",
       "</g>\n",
       "<!-- 140710718458176*&#45;&gt;140710718458176 -->\n",
       "<g id=\"edge2\" class=\"edge\">\n",
       "<title>140710718458176*&#45;&gt;140710718458176</title>\n",
       "<path fill=\"none\" stroke=\"black\" d=\"M937.23,-45.5C944.69,-45.5 953.31,-45.5 962.52,-45.5\"/>\n",
       "<polygon fill=\"black\" stroke=\"black\" points=\"962.71,-49 972.71,-45.5 962.71,-42 962.71,-49\"/>\n",
       "</g>\n",
       "<!-- 140710718459760 -->\n",
       "<g id=\"node7\" class=\"node\">\n",
       "<title>140710718459760</title>\n",
       "<polygon fill=\"none\" stroke=\"black\" points=\"2,-56.5 2,-92.5 196,-92.5 196,-56.5 2,-56.5\"/>\n",
       "<text text-anchor=\"middle\" x=\"13.5\" y=\"-70.8\" font-family=\"Times,serif\" font-size=\"14.00\">a</text>\n",
       "<polyline fill=\"none\" stroke=\"black\" points=\"25,-56.5 25,-92.5 \"/>\n",
       "<text text-anchor=\"middle\" x=\"67.5\" y=\"-70.8\" font-family=\"Times,serif\" font-size=\"14.00\">data=2.0000</text>\n",
       "<polyline fill=\"none\" stroke=\"black\" points=\"110,-56.5 110,-92.5 \"/>\n",
       "<text text-anchor=\"middle\" x=\"153\" y=\"-70.8\" font-family=\"Times,serif\" font-size=\"14.00\">grad=0.0000</text>\n",
       "</g>\n",
       "<!-- 140710718459760&#45;&gt;140710718457456* -->\n",
       "<g id=\"edge9\" class=\"edge\">\n",
       "<title>140710718459760&#45;&gt;140710718457456*</title>\n",
       "<path fill=\"none\" stroke=\"black\" d=\"M196.3,-90.75C206.28,-92.43 215.9,-94.06 224.51,-95.51\"/>\n",
       "<polygon fill=\"black\" stroke=\"black\" points=\"224.03,-98.98 234.47,-97.19 225.2,-92.08 224.03,-98.98\"/>\n",
       "</g>\n",
       "<!-- 140710718456208 -->\n",
       "<g id=\"node8\" class=\"node\">\n",
       "<title>140710718456208</title>\n",
       "<polygon fill=\"none\" stroke=\"black\" points=\"324,-28.5 324,-64.5 525,-64.5 525,-28.5 324,-28.5\"/>\n",
       "<text text-anchor=\"middle\" x=\"335.5\" y=\"-42.8\" font-family=\"Times,serif\" font-size=\"14.00\">c</text>\n",
       "<polyline fill=\"none\" stroke=\"black\" points=\"347,-28.5 347,-64.5 \"/>\n",
       "<text text-anchor=\"middle\" x=\"393\" y=\"-42.8\" font-family=\"Times,serif\" font-size=\"14.00\">data=10.0000</text>\n",
       "<polyline fill=\"none\" stroke=\"black\" points=\"439,-28.5 439,-64.5 \"/>\n",
       "<text text-anchor=\"middle\" x=\"482\" y=\"-42.8\" font-family=\"Times,serif\" font-size=\"14.00\">grad=0.0000</text>\n",
       "</g>\n",
       "<!-- 140710718456208&#45;&gt;140710718456256+ -->\n",
       "<g id=\"edge8\" class=\"edge\">\n",
       "<title>140710718456208&#45;&gt;140710718456256+</title>\n",
       "<path fill=\"none\" stroke=\"black\" d=\"M525.02,-63.14C534.41,-64.71 543.44,-66.22 551.56,-67.58\"/>\n",
       "<polygon fill=\"black\" stroke=\"black\" points=\"551.24,-71.07 561.68,-69.27 552.39,-64.17 551.24,-71.07\"/>\n",
       "</g>\n",
       "<!-- 140710718456256 -->\n",
       "<g id=\"node9\" class=\"node\">\n",
       "<title>140710718456256</title>\n",
       "<polygon fill=\"none\" stroke=\"black\" points=\"652,-55.5 652,-91.5 846,-91.5 846,-55.5 652,-55.5\"/>\n",
       "<text text-anchor=\"middle\" x=\"663.5\" y=\"-69.8\" font-family=\"Times,serif\" font-size=\"14.00\">d</text>\n",
       "<polyline fill=\"none\" stroke=\"black\" points=\"675,-55.5 675,-91.5 \"/>\n",
       "<text text-anchor=\"middle\" x=\"717.5\" y=\"-69.8\" font-family=\"Times,serif\" font-size=\"14.00\">data=4.0000</text>\n",
       "<polyline fill=\"none\" stroke=\"black\" points=\"760,-55.5 760,-91.5 \"/>\n",
       "<text text-anchor=\"middle\" x=\"803\" y=\"-69.8\" font-family=\"Times,serif\" font-size=\"14.00\">grad=0.0000</text>\n",
       "</g>\n",
       "<!-- 140710718456256&#45;&gt;140710718458176* -->\n",
       "<g id=\"edge6\" class=\"edge\">\n",
       "<title>140710718456256&#45;&gt;140710718458176*</title>\n",
       "<path fill=\"none\" stroke=\"black\" d=\"M846.16,-56.57C855.82,-54.87 865.13,-53.23 873.49,-51.75\"/>\n",
       "<polygon fill=\"black\" stroke=\"black\" points=\"874.3,-55.17 883.54,-49.98 873.08,-48.27 874.3,-55.17\"/>\n",
       "</g>\n",
       "<!-- 140710718456256+&#45;&gt;140710718456256 -->\n",
       "<g id=\"edge3\" class=\"edge\">\n",
       "<title>140710718456256+&#45;&gt;140710718456256</title>\n",
       "<path fill=\"none\" stroke=\"black\" d=\"M615.26,-73.5C623.05,-73.5 632.1,-73.5 641.75,-73.5\"/>\n",
       "<polygon fill=\"black\" stroke=\"black\" points=\"641.99,-77 651.99,-73.5 641.99,-70 641.99,-77\"/>\n",
       "</g>\n",
       "</g>\n",
       "</svg>\n"
      ],
      "text/plain": [
       "<graphviz.graphs.Digraph at 0x7ff9c43507c0>"
      ]
     },
     "execution_count": 144,
     "metadata": {},
     "output_type": "execute_result"
    }
   ],
   "source": [
    "draw_dot(L)"
   ]
  },
  {
   "cell_type": "markdown",
   "id": "c583c87a",
   "metadata": {},
   "source": [
    "### One step of optimization"
   ]
  },
  {
   "cell_type": "code",
   "execution_count": 78,
   "id": "7b48c56a",
   "metadata": {},
   "outputs": [
    {
     "name": "stdout",
     "output_type": "stream",
     "text": [
      "-7.286496\n"
     ]
    }
   ],
   "source": [
    "#Leaf nodes (Nudging in positive direction of gradient)\n",
    "a.data += 0.01 * a.grad\n",
    "b.data += 0.01 * b.grad\n",
    "c.data += 0.01 * c.grad\n",
    "f.data += 0.01 * f.grad\n",
    "\n",
    "#Forward pass\n",
    "e = a*b\n",
    "d = e+c\n",
    "L = d*f\n",
    " \n",
    "print(L.data)"
   ]
  },
  {
   "cell_type": "markdown",
   "id": "923c6a23",
   "metadata": {},
   "source": [
    "### Backpropagration require to go from output to input tracing back. (Recursive Chain Rule)\n"
   ]
  },
  {
   "cell_type": "code",
   "execution_count": 60,
   "id": "d56f85a6",
   "metadata": {},
   "outputs": [],
   "source": [
    "#e = a*b\n",
    "#de/da = b\n",
    "#de/db = a\n",
    "\n",
    "#dL/db ?\n",
    "#dL/da ?\n",
    "#dL/de = -2.0\n",
    "\n",
    "#dL/da = dL/de * de/da\n",
    "#dL/db = dL/de * de/db"
   ]
  },
  {
   "cell_type": "code",
   "execution_count": null,
   "id": "916e6a90",
   "metadata": {},
   "outputs": [],
   "source": [
    "L = d*f\n",
    "#dL/dd = ? f"
   ]
  },
  {
   "cell_type": "code",
   "execution_count": 76,
   "id": "81ab025a",
   "metadata": {},
   "outputs": [],
   "source": [
    "L.grad = 1.0\n",
    "f.grad = 4.0\n",
    "d.grad = -2.0\n",
    "e.grad = -2.0\n",
    "c.grad = -2.0\n",
    "a.grad = -2.0*-3.0\n",
    "b.grad = -2.0* 2.0"
   ]
  },
  {
   "cell_type": "code",
   "execution_count": null,
   "id": "20f74da6",
   "metadata": {},
   "outputs": [],
   "source": [
    "#Important Node"
   ]
  },
  {
   "cell_type": "code",
   "execution_count": null,
   "id": "3b04ce44",
   "metadata": {},
   "outputs": [],
   "source": [
    "dL/dc ? \n",
    "#d = c + e\n",
    "#dd/de = 1.0\n",
    "#dd/dc = 1.0\n",
    "#From Chain Rule\n",
    "#dL/dc = dL/dd * dd/dc"
   ]
  },
  {
   "cell_type": "code",
   "execution_count": 43,
   "id": "e2440e92",
   "metadata": {},
   "outputs": [
    {
     "name": "stdout",
     "output_type": "stream",
     "text": [
      "1.000000000000334\n"
     ]
    }
   ],
   "source": [
    "#gating function\n",
    "def lol():\n",
    "    h = 0.001\n",
    "    a = Value(2.0, label='a')\n",
    "    b = Value(-3.0, label='b')\n",
    "    c = Value(10.0, label='c')\n",
    "    e = a*b; e.label = 'e'\n",
    "    d = e + c; d.label = 'd'\n",
    "    f = Value(-2.0, label='f')\n",
    "    L = d*f; L.label='L'\n",
    "    L1 = L.data\n",
    "    \n",
    "    a = Value(2.0, label='a')\n",
    "    b = Value(-3.0, label='b')\n",
    "    c = Value(10.0, label='c')\n",
    "    e = a*b; e.label = 'e'\n",
    "    d = e + c; d.label = 'd'\n",
    "    f = Value(-2.0, label='f')\n",
    "    L = d*f; L.label='L'\n",
    "    L2 = L.data + h\n",
    "\n",
    "    print((L2-L1)/h) # Rise/Run\n",
    "    \n",
    "lol()"
   ]
  },
  {
   "cell_type": "markdown",
   "id": "edaecb67",
   "metadata": {},
   "source": [
    "  ## Two Input Neuron"
   ]
  },
  {
   "cell_type": "code",
   "execution_count": 189,
   "id": "a5fd0236",
   "metadata": {},
   "outputs": [],
   "source": [
    "#Inputs\n",
    "x1 = Value(2.0, label='x1')\n",
    "x2 = Value(0.0, label='x2')\n",
    "#Weights (Synaptic Strength)\n",
    "w1 = Value(-3.0, label='w1')\n",
    "w2 = Value(1.0, label='w2')\n",
    "#Bias of the neuron\n",
    "b = Value(6.881373, label='b')\n",
    "x1w1 = x1*w1; x1w1.label='x1*w1'\n",
    "x2w2 = x2*w2; x2w2.label='x2*w2'\n",
    "x1w1x2w2 = x1w1+ x2w2; x1w1x2w2.label='x1*w1 + x2*w2'\n",
    "n = x1w1x2w2 + b; n.label='n'\n",
    "o = n.tanh(); o.label='o'\n",
    "#Plot"
   ]
  },
  {
   "cell_type": "code",
   "execution_count": 192,
   "id": "c364b2d0",
   "metadata": {},
   "outputs": [
    {
     "data": {
      "image/svg+xml": [
       "<?xml version=\"1.0\" encoding=\"UTF-8\" standalone=\"no\"?>\n",
       "<!DOCTYPE svg PUBLIC \"-//W3C//DTD SVG 1.1//EN\"\n",
       " \"http://www.w3.org/Graphics/SVG/1.1/DTD/svg11.dtd\">\n",
       "<!-- Generated by graphviz version 2.43.0 (0)\n",
       " -->\n",
       "<!-- Title: %3 Pages: 1 -->\n",
       "<svg width=\"1617pt\" height=\"210pt\"\n",
       " viewBox=\"0.00 0.00 1617.00 210.00\" xmlns=\"http://www.w3.org/2000/svg\" xmlns:xlink=\"http://www.w3.org/1999/xlink\">\n",
       "<g id=\"graph0\" class=\"graph\" transform=\"scale(1 1) rotate(0) translate(4 206)\">\n",
       "<title>%3</title>\n",
       "<polygon fill=\"white\" stroke=\"transparent\" points=\"-4,4 -4,-206 1613,-206 1613,4 -4,4\"/>\n",
       "<!-- 140710715592176 -->\n",
       "<g id=\"node1\" class=\"node\">\n",
       "<title>140710715592176</title>\n",
       "<polygon fill=\"none\" stroke=\"black\" points=\"731.5,-137.5 731.5,-173.5 925.5,-173.5 925.5,-137.5 731.5,-137.5\"/>\n",
       "<text text-anchor=\"middle\" x=\"743\" y=\"-151.8\" font-family=\"Times,serif\" font-size=\"14.00\">b</text>\n",
       "<polyline fill=\"none\" stroke=\"black\" points=\"754.5,-137.5 754.5,-173.5 \"/>\n",
       "<text text-anchor=\"middle\" x=\"797\" y=\"-151.8\" font-family=\"Times,serif\" font-size=\"14.00\">data=6.8814</text>\n",
       "<polyline fill=\"none\" stroke=\"black\" points=\"839.5,-137.5 839.5,-173.5 \"/>\n",
       "<text text-anchor=\"middle\" x=\"882.5\" y=\"-151.8\" font-family=\"Times,serif\" font-size=\"14.00\">grad=0.5000</text>\n",
       "</g>\n",
       "<!-- 140710715589104+ -->\n",
       "<g id=\"node15\" class=\"node\">\n",
       "<title>140710715589104+</title>\n",
       "<ellipse fill=\"none\" stroke=\"black\" cx=\"1032\" cy=\"-127.5\" rx=\"27\" ry=\"18\"/>\n",
       "<text text-anchor=\"middle\" x=\"1032\" y=\"-123.8\" font-family=\"Times,serif\" font-size=\"14.00\">+</text>\n",
       "</g>\n",
       "<!-- 140710715592176&#45;&gt;140710715589104+ -->\n",
       "<g id=\"edge10\" class=\"edge\">\n",
       "<title>140710715592176&#45;&gt;140710715589104+</title>\n",
       "<path fill=\"none\" stroke=\"black\" d=\"M925.53,-142.16C950.45,-138.69 975.75,-135.18 995.32,-132.46\"/>\n",
       "<polygon fill=\"black\" stroke=\"black\" points=\"995.86,-135.92 1005.29,-131.07 994.9,-128.98 995.86,-135.92\"/>\n",
       "</g>\n",
       "<!-- 140710715592320 -->\n",
       "<g id=\"node2\" class=\"node\">\n",
       "<title>140710715592320</title>\n",
       "<polygon fill=\"none\" stroke=\"black\" points=\"336,-110.5 336,-146.5 560,-146.5 560,-110.5 336,-110.5\"/>\n",
       "<text text-anchor=\"middle\" x=\"362.5\" y=\"-124.8\" font-family=\"Times,serif\" font-size=\"14.00\">x2*w2</text>\n",
       "<polyline fill=\"none\" stroke=\"black\" points=\"389,-110.5 389,-146.5 \"/>\n",
       "<text text-anchor=\"middle\" x=\"431.5\" y=\"-124.8\" font-family=\"Times,serif\" font-size=\"14.00\">data=0.0000</text>\n",
       "<polyline fill=\"none\" stroke=\"black\" points=\"474,-110.5 474,-146.5 \"/>\n",
       "<text text-anchor=\"middle\" x=\"517\" y=\"-124.8\" font-family=\"Times,serif\" font-size=\"14.00\">grad=0.5000</text>\n",
       "</g>\n",
       "<!-- 140710715591360+ -->\n",
       "<g id=\"node6\" class=\"node\">\n",
       "<title>140710715591360+</title>\n",
       "<ellipse fill=\"none\" stroke=\"black\" cx=\"625\" cy=\"-100.5\" rx=\"27\" ry=\"18\"/>\n",
       "<text text-anchor=\"middle\" x=\"625\" y=\"-96.8\" font-family=\"Times,serif\" font-size=\"14.00\">+</text>\n",
       "</g>\n",
       "<!-- 140710715592320&#45;&gt;140710715591360+ -->\n",
       "<g id=\"edge13\" class=\"edge\">\n",
       "<title>140710715592320&#45;&gt;140710715591360+</title>\n",
       "<path fill=\"none\" stroke=\"black\" d=\"M560.33,-110.69C570.39,-109.08 580,-107.54 588.56,-106.17\"/>\n",
       "<polygon fill=\"black\" stroke=\"black\" points=\"589.13,-109.62 598.45,-104.59 588.02,-102.71 589.13,-109.62\"/>\n",
       "</g>\n",
       "<!-- 140710715592320* -->\n",
       "<g id=\"node3\" class=\"node\">\n",
       "<title>140710715592320*</title>\n",
       "<ellipse fill=\"none\" stroke=\"black\" cx=\"271\" cy=\"-128.5\" rx=\"27\" ry=\"18\"/>\n",
       "<text text-anchor=\"middle\" x=\"271\" y=\"-124.8\" font-family=\"Times,serif\" font-size=\"14.00\">*</text>\n",
       "</g>\n",
       "<!-- 140710715592320*&#45;&gt;140710715592320 -->\n",
       "<g id=\"edge1\" class=\"edge\">\n",
       "<title>140710715592320*&#45;&gt;140710715592320</title>\n",
       "<path fill=\"none\" stroke=\"black\" d=\"M298.2,-128.5C306.21,-128.5 315.6,-128.5 325.69,-128.5\"/>\n",
       "<polygon fill=\"black\" stroke=\"black\" points=\"326,-132 336,-128.5 326,-125 326,-132\"/>\n",
       "</g>\n",
       "<!-- 140710715592608 -->\n",
       "<g id=\"node4\" class=\"node\">\n",
       "<title>140710715592608</title>\n",
       "<polygon fill=\"none\" stroke=\"black\" points=\"0,-55.5 0,-91.5 208,-91.5 208,-55.5 0,-55.5\"/>\n",
       "<text text-anchor=\"middle\" x=\"16.5\" y=\"-69.8\" font-family=\"Times,serif\" font-size=\"14.00\">w1</text>\n",
       "<polyline fill=\"none\" stroke=\"black\" points=\"33,-55.5 33,-91.5 \"/>\n",
       "<text text-anchor=\"middle\" x=\"77.5\" y=\"-69.8\" font-family=\"Times,serif\" font-size=\"14.00\">data=&#45;3.0000</text>\n",
       "<polyline fill=\"none\" stroke=\"black\" points=\"122,-55.5 122,-91.5 \"/>\n",
       "<text text-anchor=\"middle\" x=\"165\" y=\"-69.8\" font-family=\"Times,serif\" font-size=\"14.00\">grad=1.0000</text>\n",
       "</g>\n",
       "<!-- 140710715592416* -->\n",
       "<g id=\"node8\" class=\"node\">\n",
       "<title>140710715592416*</title>\n",
       "<ellipse fill=\"none\" stroke=\"black\" cx=\"271\" cy=\"-73.5\" rx=\"27\" ry=\"18\"/>\n",
       "<text text-anchor=\"middle\" x=\"271\" y=\"-69.8\" font-family=\"Times,serif\" font-size=\"14.00\">*</text>\n",
       "</g>\n",
       "<!-- 140710715592608&#45;&gt;140710715592416* -->\n",
       "<g id=\"edge9\" class=\"edge\">\n",
       "<title>140710715592608&#45;&gt;140710715592416*</title>\n",
       "<path fill=\"none\" stroke=\"black\" d=\"M208.09,-73.5C217.14,-73.5 225.83,-73.5 233.7,-73.5\"/>\n",
       "<polygon fill=\"black\" stroke=\"black\" points=\"233.87,-77 243.87,-73.5 233.87,-70 233.87,-77\"/>\n",
       "</g>\n",
       "<!-- 140710715591360 -->\n",
       "<g id=\"node5\" class=\"node\">\n",
       "<title>140710715591360</title>\n",
       "<polygon fill=\"none\" stroke=\"black\" points=\"688,-82.5 688,-118.5 969,-118.5 969,-82.5 688,-82.5\"/>\n",
       "<text text-anchor=\"middle\" x=\"741\" y=\"-96.8\" font-family=\"Times,serif\" font-size=\"14.00\">x1*w1 + x2*w2</text>\n",
       "<polyline fill=\"none\" stroke=\"black\" points=\"794,-82.5 794,-118.5 \"/>\n",
       "<text text-anchor=\"middle\" x=\"838.5\" y=\"-96.8\" font-family=\"Times,serif\" font-size=\"14.00\">data=&#45;6.0000</text>\n",
       "<polyline fill=\"none\" stroke=\"black\" points=\"883,-82.5 883,-118.5 \"/>\n",
       "<text text-anchor=\"middle\" x=\"926\" y=\"-96.8\" font-family=\"Times,serif\" font-size=\"14.00\">grad=0.5000</text>\n",
       "</g>\n",
       "<!-- 140710715591360&#45;&gt;140710715589104+ -->\n",
       "<g id=\"edge12\" class=\"edge\">\n",
       "<title>140710715591360&#45;&gt;140710715589104+</title>\n",
       "<path fill=\"none\" stroke=\"black\" d=\"M963.9,-118.51C975.23,-120.03 985.92,-121.46 995.3,-122.72\"/>\n",
       "<polygon fill=\"black\" stroke=\"black\" points=\"994.91,-126.2 1005.29,-124.05 995.84,-119.26 994.91,-126.2\"/>\n",
       "</g>\n",
       "<!-- 140710715591360+&#45;&gt;140710715591360 -->\n",
       "<g id=\"edge2\" class=\"edge\">\n",
       "<title>140710715591360+&#45;&gt;140710715591360</title>\n",
       "<path fill=\"none\" stroke=\"black\" d=\"M652.34,-100.5C659.79,-100.5 668.45,-100.5 677.87,-100.5\"/>\n",
       "<polygon fill=\"black\" stroke=\"black\" points=\"677.94,-104 687.94,-100.5 677.94,-97 677.94,-104\"/>\n",
       "</g>\n",
       "<!-- 140710715592416 -->\n",
       "<g id=\"node7\" class=\"node\">\n",
       "<title>140710715592416</title>\n",
       "<polygon fill=\"none\" stroke=\"black\" points=\"334,-55.5 334,-91.5 562,-91.5 562,-55.5 334,-55.5\"/>\n",
       "<text text-anchor=\"middle\" x=\"360.5\" y=\"-69.8\" font-family=\"Times,serif\" font-size=\"14.00\">x1*w1</text>\n",
       "<polyline fill=\"none\" stroke=\"black\" points=\"387,-55.5 387,-91.5 \"/>\n",
       "<text text-anchor=\"middle\" x=\"431.5\" y=\"-69.8\" font-family=\"Times,serif\" font-size=\"14.00\">data=&#45;6.0000</text>\n",
       "<polyline fill=\"none\" stroke=\"black\" points=\"476,-55.5 476,-91.5 \"/>\n",
       "<text text-anchor=\"middle\" x=\"519\" y=\"-69.8\" font-family=\"Times,serif\" font-size=\"14.00\">grad=0.5000</text>\n",
       "</g>\n",
       "<!-- 140710715592416&#45;&gt;140710715591360+ -->\n",
       "<g id=\"edge14\" class=\"edge\">\n",
       "<title>140710715592416&#45;&gt;140710715591360+</title>\n",
       "<path fill=\"none\" stroke=\"black\" d=\"M562.3,-90.98C571.62,-92.42 580.51,-93.79 588.5,-95.02\"/>\n",
       "<polygon fill=\"black\" stroke=\"black\" points=\"588.02,-98.49 598.43,-96.56 589.08,-91.57 588.02,-98.49\"/>\n",
       "</g>\n",
       "<!-- 140710715592416*&#45;&gt;140710715592416 -->\n",
       "<g id=\"edge3\" class=\"edge\">\n",
       "<title>140710715592416*&#45;&gt;140710715592416</title>\n",
       "<path fill=\"none\" stroke=\"black\" d=\"M298.2,-73.5C305.62,-73.5 314.23,-73.5 323.48,-73.5\"/>\n",
       "<polygon fill=\"black\" stroke=\"black\" points=\"323.76,-77 333.76,-73.5 323.76,-70 323.76,-77\"/>\n",
       "</g>\n",
       "<!-- 140710715589872 -->\n",
       "<g id=\"node9\" class=\"node\">\n",
       "<title>140710715589872</title>\n",
       "<polygon fill=\"none\" stroke=\"black\" points=\"2,-165.5 2,-201.5 206,-201.5 206,-165.5 2,-165.5\"/>\n",
       "<text text-anchor=\"middle\" x=\"18.5\" y=\"-179.8\" font-family=\"Times,serif\" font-size=\"14.00\">w2</text>\n",
       "<polyline fill=\"none\" stroke=\"black\" points=\"35,-165.5 35,-201.5 \"/>\n",
       "<text text-anchor=\"middle\" x=\"77.5\" y=\"-179.8\" font-family=\"Times,serif\" font-size=\"14.00\">data=1.0000</text>\n",
       "<polyline fill=\"none\" stroke=\"black\" points=\"120,-165.5 120,-201.5 \"/>\n",
       "<text text-anchor=\"middle\" x=\"163\" y=\"-179.8\" font-family=\"Times,serif\" font-size=\"14.00\">grad=0.0000</text>\n",
       "</g>\n",
       "<!-- 140710715589872&#45;&gt;140710715592320* -->\n",
       "<g id=\"edge7\" class=\"edge\">\n",
       "<title>140710715589872&#45;&gt;140710715592320*</title>\n",
       "<path fill=\"none\" stroke=\"black\" d=\"M179.99,-165.42C189.49,-162.67 199.03,-159.68 208,-156.5 218.55,-152.77 229.78,-147.96 239.74,-143.39\"/>\n",
       "<polygon fill=\"black\" stroke=\"black\" points=\"241.28,-146.54 248.84,-139.12 238.3,-140.2 241.28,-146.54\"/>\n",
       "</g>\n",
       "<!-- 140710715639552 -->\n",
       "<g id=\"node10\" class=\"node\">\n",
       "<title>140710715639552</title>\n",
       "<polygon fill=\"none\" stroke=\"black\" points=\"1415,-109.5 1415,-145.5 1609,-145.5 1609,-109.5 1415,-109.5\"/>\n",
       "<text text-anchor=\"middle\" x=\"1426.5\" y=\"-123.8\" font-family=\"Times,serif\" font-size=\"14.00\">o</text>\n",
       "<polyline fill=\"none\" stroke=\"black\" points=\"1438,-109.5 1438,-145.5 \"/>\n",
       "<text text-anchor=\"middle\" x=\"1480.5\" y=\"-123.8\" font-family=\"Times,serif\" font-size=\"14.00\">data=0.7071</text>\n",
       "<polyline fill=\"none\" stroke=\"black\" points=\"1523,-109.5 1523,-145.5 \"/>\n",
       "<text text-anchor=\"middle\" x=\"1566\" y=\"-123.8\" font-family=\"Times,serif\" font-size=\"14.00\">grad=1.0000</text>\n",
       "</g>\n",
       "<!-- 140710715639552tanh -->\n",
       "<g id=\"node11\" class=\"node\">\n",
       "<title>140710715639552tanh</title>\n",
       "<ellipse fill=\"none\" stroke=\"black\" cx=\"1352\" cy=\"-127.5\" rx=\"27\" ry=\"18\"/>\n",
       "<text text-anchor=\"middle\" x=\"1352\" y=\"-123.8\" font-family=\"Times,serif\" font-size=\"14.00\">tanh</text>\n",
       "</g>\n",
       "<!-- 140710715639552tanh&#45;&gt;140710715639552 -->\n",
       "<g id=\"edge4\" class=\"edge\">\n",
       "<title>140710715639552tanh&#45;&gt;140710715639552</title>\n",
       "<path fill=\"none\" stroke=\"black\" d=\"M1379.09,-127.5C1386.62,-127.5 1395.34,-127.5 1404.63,-127.5\"/>\n",
       "<polygon fill=\"black\" stroke=\"black\" points=\"1404.92,-131 1414.92,-127.5 1404.92,-124 1404.92,-131\"/>\n",
       "</g>\n",
       "<!-- 140710715591072 -->\n",
       "<g id=\"node12\" class=\"node\">\n",
       "<title>140710715591072</title>\n",
       "<polygon fill=\"none\" stroke=\"black\" points=\"3.5,-110.5 3.5,-146.5 204.5,-146.5 204.5,-110.5 3.5,-110.5\"/>\n",
       "<text text-anchor=\"middle\" x=\"18.5\" y=\"-124.8\" font-family=\"Times,serif\" font-size=\"14.00\">x2</text>\n",
       "<polyline fill=\"none\" stroke=\"black\" points=\"33.5,-110.5 33.5,-146.5 \"/>\n",
       "<text text-anchor=\"middle\" x=\"76\" y=\"-124.8\" font-family=\"Times,serif\" font-size=\"14.00\">data=0.0000</text>\n",
       "<polyline fill=\"none\" stroke=\"black\" points=\"118.5,-110.5 118.5,-146.5 \"/>\n",
       "<text text-anchor=\"middle\" x=\"161.5\" y=\"-124.8\" font-family=\"Times,serif\" font-size=\"14.00\">grad=0.5000</text>\n",
       "</g>\n",
       "<!-- 140710715591072&#45;&gt;140710715592320* -->\n",
       "<g id=\"edge11\" class=\"edge\">\n",
       "<title>140710715591072&#45;&gt;140710715592320*</title>\n",
       "<path fill=\"none\" stroke=\"black\" d=\"M204.79,-128.5C215.02,-128.5 224.87,-128.5 233.69,-128.5\"/>\n",
       "<polygon fill=\"black\" stroke=\"black\" points=\"233.89,-132 243.89,-128.5 233.89,-125 233.89,-132\"/>\n",
       "</g>\n",
       "<!-- 140710715591648 -->\n",
       "<g id=\"node13\" class=\"node\">\n",
       "<title>140710715591648</title>\n",
       "<polygon fill=\"none\" stroke=\"black\" points=\"1,-0.5 1,-36.5 207,-36.5 207,-0.5 1,-0.5\"/>\n",
       "<text text-anchor=\"middle\" x=\"16\" y=\"-14.8\" font-family=\"Times,serif\" font-size=\"14.00\">x1</text>\n",
       "<polyline fill=\"none\" stroke=\"black\" points=\"31,-0.5 31,-36.5 \"/>\n",
       "<text text-anchor=\"middle\" x=\"73.5\" y=\"-14.8\" font-family=\"Times,serif\" font-size=\"14.00\">data=2.0000</text>\n",
       "<polyline fill=\"none\" stroke=\"black\" points=\"116,-0.5 116,-36.5 \"/>\n",
       "<text text-anchor=\"middle\" x=\"161.5\" y=\"-14.8\" font-family=\"Times,serif\" font-size=\"14.00\">grad=&#45;1.5000</text>\n",
       "</g>\n",
       "<!-- 140710715591648&#45;&gt;140710715592416* -->\n",
       "<g id=\"edge8\" class=\"edge\">\n",
       "<title>140710715591648&#45;&gt;140710715592416*</title>\n",
       "<path fill=\"none\" stroke=\"black\" d=\"M176.61,-36.52C187.22,-39.61 197.95,-42.97 208,-46.5 218.3,-50.12 229.3,-54.67 239.13,-59.01\"/>\n",
       "<polygon fill=\"black\" stroke=\"black\" points=\"237.95,-62.31 248.5,-63.22 240.82,-55.93 237.95,-62.31\"/>\n",
       "</g>\n",
       "<!-- 140710715589104 -->\n",
       "<g id=\"node14\" class=\"node\">\n",
       "<title>140710715589104</title>\n",
       "<polygon fill=\"none\" stroke=\"black\" points=\"1095,-109.5 1095,-145.5 1289,-145.5 1289,-109.5 1095,-109.5\"/>\n",
       "<text text-anchor=\"middle\" x=\"1106.5\" y=\"-123.8\" font-family=\"Times,serif\" font-size=\"14.00\">n</text>\n",
       "<polyline fill=\"none\" stroke=\"black\" points=\"1118,-109.5 1118,-145.5 \"/>\n",
       "<text text-anchor=\"middle\" x=\"1160.5\" y=\"-123.8\" font-family=\"Times,serif\" font-size=\"14.00\">data=0.8814</text>\n",
       "<polyline fill=\"none\" stroke=\"black\" points=\"1203,-109.5 1203,-145.5 \"/>\n",
       "<text text-anchor=\"middle\" x=\"1246\" y=\"-123.8\" font-family=\"Times,serif\" font-size=\"14.00\">grad=0.5000</text>\n",
       "</g>\n",
       "<!-- 140710715589104&#45;&gt;140710715639552tanh -->\n",
       "<g id=\"edge6\" class=\"edge\">\n",
       "<title>140710715589104&#45;&gt;140710715639552tanh</title>\n",
       "<path fill=\"none\" stroke=\"black\" d=\"M1289.01,-127.5C1297.98,-127.5 1306.65,-127.5 1314.51,-127.5\"/>\n",
       "<polygon fill=\"black\" stroke=\"black\" points=\"1314.7,-131 1324.7,-127.5 1314.7,-124 1314.7,-131\"/>\n",
       "</g>\n",
       "<!-- 140710715589104+&#45;&gt;140710715589104 -->\n",
       "<g id=\"edge5\" class=\"edge\">\n",
       "<title>140710715589104+&#45;&gt;140710715589104</title>\n",
       "<path fill=\"none\" stroke=\"black\" d=\"M1059.09,-127.5C1066.62,-127.5 1075.34,-127.5 1084.63,-127.5\"/>\n",
       "<polygon fill=\"black\" stroke=\"black\" points=\"1084.92,-131 1094.92,-127.5 1084.92,-124 1084.92,-131\"/>\n",
       "</g>\n",
       "</g>\n",
       "</svg>\n"
      ],
      "text/plain": [
       "<graphviz.graphs.Digraph at 0x7ff9c463c3d0>"
      ]
     },
     "execution_count": 192,
     "metadata": {},
     "output_type": "execute_result"
    }
   ],
   "source": [
    "draw_dot(o)"
   ]
  },
  {
   "cell_type": "code",
   "execution_count": 191,
   "id": "d5d1e893",
   "metadata": {},
   "outputs": [],
   "source": [
    "##Backpropagation\n",
    "o.backward()"
   ]
  },
  {
   "cell_type": "code",
   "execution_count": 148,
   "id": "b95975dd",
   "metadata": {},
   "outputs": [],
   "source": [
    "o.grad = 1.0"
   ]
  },
  {
   "cell_type": "code",
   "execution_count": 124,
   "id": "a65a4a12",
   "metadata": {},
   "outputs": [],
   "source": [
    "o._backward()"
   ]
  },
  {
   "cell_type": "code",
   "execution_count": 126,
   "id": "134e10c5",
   "metadata": {},
   "outputs": [],
   "source": [
    "n._backward()"
   ]
  },
  {
   "cell_type": "code",
   "execution_count": 128,
   "id": "dd183290",
   "metadata": {},
   "outputs": [],
   "source": [
    "b._backward()"
   ]
  },
  {
   "cell_type": "code",
   "execution_count": 130,
   "id": "b0f17a02",
   "metadata": {},
   "outputs": [],
   "source": [
    "x1w1x2w2._backward()"
   ]
  },
  {
   "cell_type": "code",
   "execution_count": 132,
   "id": "253a5686",
   "metadata": {},
   "outputs": [],
   "source": [
    "x2w2._backward()\n",
    "x1w1._backward()"
   ]
  },
  {
   "cell_type": "code",
   "execution_count": 95,
   "id": "ca062018",
   "metadata": {},
   "outputs": [],
   "source": [
    "o.grad = 1.0"
   ]
  },
  {
   "cell_type": "code",
   "execution_count": 99,
   "id": "967d1d8d",
   "metadata": {},
   "outputs": [],
   "source": [
    "n.grad = 0.5"
   ]
  },
  {
   "cell_type": "markdown",
   "id": "fe379b0d",
   "metadata": {},
   "source": [
    "### + is just a distributor of gradient"
   ]
  },
  {
   "cell_type": "code",
   "execution_count": 101,
   "id": "ff9daa58",
   "metadata": {},
   "outputs": [],
   "source": [
    "x1w1x2w2.grad = 0.5\n",
    "b.grad = 0.5"
   ]
  },
  {
   "cell_type": "code",
   "execution_count": 103,
   "id": "f50ba2cc",
   "metadata": {},
   "outputs": [],
   "source": [
    "x1w1.grad = 0.5\n",
    "x2w2.grad = 0.5"
   ]
  },
  {
   "cell_type": "code",
   "execution_count": 105,
   "id": "6481fbee",
   "metadata": {},
   "outputs": [],
   "source": [
    "x2.grad = w2.data * x2w2.grad\n",
    "w2.grad = x2.data * x2w2.grad"
   ]
  },
  {
   "cell_type": "code",
   "execution_count": 107,
   "id": "fd1f6a18",
   "metadata": {},
   "outputs": [],
   "source": [
    "x1.grad = w1.data * x1w1.grad\n",
    "w1.grad = x1.data * x1w1.grad"
   ]
  },
  {
   "cell_type": "code",
   "execution_count": 97,
   "id": "6fe4e207",
   "metadata": {},
   "outputs": [
    {
     "data": {
      "text/plain": [
       "0.7071064876766542"
      ]
     },
     "execution_count": 97,
     "metadata": {},
     "output_type": "execute_result"
    }
   ],
   "source": [
    "o.data"
   ]
  },
  {
   "cell_type": "code",
   "execution_count": 98,
   "id": "cf1a8633",
   "metadata": {},
   "outputs": [
    {
     "data": {
      "text/plain": [
       "0.5000004150855857"
      ]
     },
     "execution_count": 98,
     "metadata": {},
     "output_type": "execute_result"
    }
   ],
   "source": [
    "#do/dn\n",
    "1 - o.data**2"
   ]
  },
  {
   "cell_type": "markdown",
   "id": "deec0273",
   "metadata": {},
   "source": [
    "## Topological Sorting"
   ]
  },
  {
   "cell_type": "code",
   "execution_count": 141,
   "id": "8ba2e503",
   "metadata": {},
   "outputs": [],
   "source": [
    "topo = []\n",
    "visited = set()\n",
    "def build_topo(v):\n",
    "    if v not in visited:\n",
    "        visited.add(v)\n",
    "        for child in v._prev:\n",
    "            build_topo(child)\n",
    "        topo.append(v)\n",
    "build_topo(o)\n",
    "\n",
    "for node in reversed(topo):\n",
    "    node._backward()"
   ]
  },
  {
   "cell_type": "code",
   "execution_count": 140,
   "id": "f28a10f8",
   "metadata": {},
   "outputs": [
    {
     "data": {
      "text/plain": [
       "[Value(data=6.881373),\n",
       " Value(data=0.0),\n",
       " Value(data=1.0),\n",
       " Value(data=0.0),\n",
       " Value(data=-3.0),\n",
       " Value(data=2.0),\n",
       " Value(data=-6.0),\n",
       " Value(data=-6.0),\n",
       " Value(data=0.881373),\n",
       " Value(data=0.7071064876766542)]"
      ]
     },
     "execution_count": 140,
     "metadata": {},
     "output_type": "execute_result"
    }
   ],
   "source": [
    "topo = []\n",
    "visited = set()\n",
    "def build_topo(v):\n",
    "    if v not in visited:\n",
    "        visited.add(v)\n",
    "        for child in v._prev:\n",
    "            build_topo(child)\n",
    "        topo.append(v)\n",
    "build_topo(o)\n",
    "topo"
   ]
  },
  {
   "cell_type": "markdown",
   "id": "fb6397d6",
   "metadata": {},
   "source": [
    "## Backprop Bug"
   ]
  },
  {
   "cell_type": "code",
   "execution_count": 196,
   "id": "aad1ad93",
   "metadata": {},
   "outputs": [
    {
     "data": {
      "image/svg+xml": [
       "<?xml version=\"1.0\" encoding=\"UTF-8\" standalone=\"no\"?>\n",
       "<!DOCTYPE svg PUBLIC \"-//W3C//DTD SVG 1.1//EN\"\n",
       " \"http://www.w3.org/Graphics/SVG/1.1/DTD/svg11.dtd\">\n",
       "<!-- Generated by graphviz version 2.43.0 (0)\n",
       " -->\n",
       "<!-- Title: %3 Pages: 1 -->\n",
       "<svg width=\"522pt\" height=\"45pt\"\n",
       " viewBox=\"0.00 0.00 522.00 45.00\" xmlns=\"http://www.w3.org/2000/svg\" xmlns:xlink=\"http://www.w3.org/1999/xlink\">\n",
       "<g id=\"graph0\" class=\"graph\" transform=\"scale(1 1) rotate(0) translate(4 41)\">\n",
       "<title>%3</title>\n",
       "<polygon fill=\"white\" stroke=\"transparent\" points=\"-4,4 -4,-41 518,-41 518,4 -4,4\"/>\n",
       "<!-- 140710714741664 -->\n",
       "<g id=\"node1\" class=\"node\">\n",
       "<title>140710714741664</title>\n",
       "<polygon fill=\"none\" stroke=\"black\" points=\"320,-0.5 320,-36.5 514,-36.5 514,-0.5 320,-0.5\"/>\n",
       "<text text-anchor=\"middle\" x=\"331.5\" y=\"-14.8\" font-family=\"Times,serif\" font-size=\"14.00\">b</text>\n",
       "<polyline fill=\"none\" stroke=\"black\" points=\"343,-0.5 343,-36.5 \"/>\n",
       "<text text-anchor=\"middle\" x=\"385.5\" y=\"-14.8\" font-family=\"Times,serif\" font-size=\"14.00\">data=6.0000</text>\n",
       "<polyline fill=\"none\" stroke=\"black\" points=\"428,-0.5 428,-36.5 \"/>\n",
       "<text text-anchor=\"middle\" x=\"471\" y=\"-14.8\" font-family=\"Times,serif\" font-size=\"14.00\">grad=1.0000</text>\n",
       "</g>\n",
       "<!-- 140710714741664+ -->\n",
       "<g id=\"node2\" class=\"node\">\n",
       "<title>140710714741664+</title>\n",
       "<ellipse fill=\"none\" stroke=\"black\" cx=\"257\" cy=\"-18.5\" rx=\"27\" ry=\"18\"/>\n",
       "<text text-anchor=\"middle\" x=\"257\" y=\"-14.8\" font-family=\"Times,serif\" font-size=\"14.00\">+</text>\n",
       "</g>\n",
       "<!-- 140710714741664+&#45;&gt;140710714741664 -->\n",
       "<g id=\"edge1\" class=\"edge\">\n",
       "<title>140710714741664+&#45;&gt;140710714741664</title>\n",
       "<path fill=\"none\" stroke=\"black\" d=\"M284.09,-18.5C291.62,-18.5 300.34,-18.5 309.63,-18.5\"/>\n",
       "<polygon fill=\"black\" stroke=\"black\" points=\"309.92,-22 319.92,-18.5 309.92,-15 309.92,-22\"/>\n",
       "</g>\n",
       "<!-- 140710714742864 -->\n",
       "<g id=\"node3\" class=\"node\">\n",
       "<title>140710714742864</title>\n",
       "<polygon fill=\"none\" stroke=\"black\" points=\"0,-0.5 0,-36.5 194,-36.5 194,-0.5 0,-0.5\"/>\n",
       "<text text-anchor=\"middle\" x=\"11.5\" y=\"-14.8\" font-family=\"Times,serif\" font-size=\"14.00\">a</text>\n",
       "<polyline fill=\"none\" stroke=\"black\" points=\"23,-0.5 23,-36.5 \"/>\n",
       "<text text-anchor=\"middle\" x=\"65.5\" y=\"-14.8\" font-family=\"Times,serif\" font-size=\"14.00\">data=3.0000</text>\n",
       "<polyline fill=\"none\" stroke=\"black\" points=\"108,-0.5 108,-36.5 \"/>\n",
       "<text text-anchor=\"middle\" x=\"151\" y=\"-14.8\" font-family=\"Times,serif\" font-size=\"14.00\">grad=2.0000</text>\n",
       "</g>\n",
       "<!-- 140710714742864&#45;&gt;140710714741664+ -->\n",
       "<g id=\"edge2\" class=\"edge\">\n",
       "<title>140710714742864&#45;&gt;140710714741664+</title>\n",
       "<path fill=\"none\" stroke=\"black\" d=\"M194.01,-18.5C202.98,-18.5 211.65,-18.5 219.51,-18.5\"/>\n",
       "<polygon fill=\"black\" stroke=\"black\" points=\"219.7,-22 229.7,-18.5 219.7,-15 219.7,-22\"/>\n",
       "</g>\n",
       "</g>\n",
       "</svg>\n"
      ],
      "text/plain": [
       "<graphviz.graphs.Digraph at 0x7ff9c42b1f10>"
      ]
     },
     "execution_count": 196,
     "metadata": {},
     "output_type": "execute_result"
    }
   ],
   "source": [
    "a = Value(3.0, label='a')\n",
    "b = a+a; b.label='b'\n",
    "b.backward()\n",
    "draw_dot(b)"
   ]
  },
  {
   "cell_type": "markdown",
   "id": "9803c50d",
   "metadata": {},
   "source": [
    "* Solve by accumulating it"
   ]
  },
  {
   "cell_type": "markdown",
   "id": "bb142738",
   "metadata": {},
   "source": [
    "## In pytorch API"
   ]
  },
  {
   "cell_type": "code",
   "execution_count": 203,
   "id": "f244e69c",
   "metadata": {
    "scrolled": false
   },
   "outputs": [
    {
     "name": "stdout",
     "output_type": "stream",
     "text": [
      "0.7070699720278941\n",
      "---\n",
      "-1.5001561639694192\n",
      "0.5000520546564731\n",
      "1.0001041093129461\n",
      "0.0\n"
     ]
    }
   ],
   "source": [
    "import torch\n",
    "\n",
    "x1 = torch.Tensor([2.0]).double();  x1.requires_grad = True\n",
    "x2 = torch.Tensor([0.0]).double();  x2.requires_grad = True\n",
    "w1 = torch.Tensor([-3.0]).double(); w1.requires_grad = True\n",
    "w2 = torch.Tensor([1.0]).double();  w2.requires_grad = True\n",
    "b = torch.Tensor([6.8813]).double();b.requires_grad = True\n",
    "n = x1*w1+x2*w2 + b\n",
    "o = torch.tanh(n)\n",
    "print(o.data.item())\n",
    "o.backward()\n",
    "\n",
    "print('---')\n",
    "print(x1.grad.item())\n",
    "print(x2.grad.item())\n",
    "print(w1.grad.item())\n",
    "print(w2.grad.item())"
   ]
  },
  {
   "cell_type": "code",
   "execution_count": 204,
   "id": "e7550a92",
   "metadata": {},
   "outputs": [
    {
     "data": {
      "text/plain": [
       "tensor([0.7071], dtype=torch.float64, grad_fn=<TanhBackward0>)"
      ]
     },
     "execution_count": 204,
     "metadata": {},
     "output_type": "execute_result"
    }
   ],
   "source": [
    "o"
   ]
  },
  {
   "cell_type": "code",
   "execution_count": 216,
   "id": "84d0a1f7",
   "metadata": {},
   "outputs": [],
   "source": [
    "import random"
   ]
  },
  {
   "cell_type": "markdown",
   "id": "e0cbed56",
   "metadata": {},
   "source": [
    "## Building Neural Network"
   ]
  },
  {
   "cell_type": "code",
   "execution_count": 388,
   "id": "68016167",
   "metadata": {},
   "outputs": [
    {
     "data": {
      "text/plain": [
       "Value(data=0.9086385901294699)"
      ]
     },
     "execution_count": 388,
     "metadata": {},
     "output_type": "execute_result"
    }
   ],
   "source": [
    "class Neuron:\n",
    "    def __init__(self,nin):\n",
    "        self.w = [Value(random.uniform(-1,1)) for _ in range(nin)]\n",
    "        self.b = Value(random.uniform(-1,1))\n",
    "        \n",
    "    def __call__(self,x):\n",
    "        # w*x + b\n",
    "        #print(list(zip(self.w,x)))\n",
    "        act = sum(list(wi*xi for wi, xi in zip(self.w, x)))+ self.b #+ self.b\n",
    "        #print(act)\n",
    "        out = act.tanh()\n",
    "        #print(out)\n",
    "        return out\n",
    "\n",
    "class Layer:\n",
    "    \n",
    "    def __init__(self,nin, nout):\n",
    "        self.neurons = [Neuron(nin) for _ in range(nout)]\n",
    "\n",
    "    def __call__(self,x):\n",
    "        outs = [n(x) for n in self.neurons]\n",
    "        return outs[0] if len(outs) ==1 else outs\n",
    "        \n",
    "class MLP:\n",
    "    \n",
    "    def __init__(self,nin, nouts):\n",
    "        sz = [nin] + nouts\n",
    "        self.layers = [Layer(sz[i], sz[i+1]) for i in range(len(nouts))]\n",
    "        \n",
    "    def __call__(self,x):\n",
    "        for layer in self.layers:\n",
    "            x = layer(x)\n",
    "        return x\n",
    "        \n",
    "\n",
    "        \n",
    "x = [2.0, 3.0, -1.0] # 3D inputs\n",
    "#n = Neuron(2)\n",
    "#n = Layer(2,3)\n",
    "n = MLP(3,[4,4,1])\n",
    "n(x)"
   ]
  },
  {
   "cell_type": "code",
   "execution_count": 389,
   "id": "a7c45e81",
   "metadata": {},
   "outputs": [
    {
     "data": {
      "text/plain": [
       "[Value(data=0.9086385901294699),\n",
       " Value(data=0.8122284092747788),\n",
       " Value(data=0.9365304007324551),\n",
       " Value(data=0.9102833061705279)]"
      ]
     },
     "execution_count": 389,
     "metadata": {},
     "output_type": "execute_result"
    }
   ],
   "source": [
    "xs = [\n",
    "    [2.0,3.0,-1.0],\n",
    "    [3.0,-1.0,0.5],\n",
    "    [0.5,1.0, 1.0],\n",
    "    [1.0,1.0,-1.0],\n",
    "]\n",
    "ys = [1.0, -1.0, -1.0, 1]\n",
    "ypred = [n(x) for x in xs]\n",
    "ypred"
   ]
  },
  {
   "cell_type": "code",
   "execution_count": 397,
   "id": "99643cc0",
   "metadata": {},
   "outputs": [],
   "source": [
    "#list((yout-ygt)**2  for ygt, yout in zip(ys, ypred))"
   ]
  },
  {
   "cell_type": "code",
   "execution_count": null,
   "id": "82c63413",
   "metadata": {},
   "outputs": [],
   "source": []
  }
 ],
 "metadata": {
  "kernelspec": {
   "display_name": "Python 3 (ipykernel)",
   "language": "python",
   "name": "python3"
  },
  "language_info": {
   "codemirror_mode": {
    "name": "ipython",
    "version": 3
   },
   "file_extension": ".py",
   "mimetype": "text/x-python",
   "name": "python",
   "nbconvert_exporter": "python",
   "pygments_lexer": "ipython3",
   "version": "3.8.10"
  }
 },
 "nbformat": 4,
 "nbformat_minor": 5
}
